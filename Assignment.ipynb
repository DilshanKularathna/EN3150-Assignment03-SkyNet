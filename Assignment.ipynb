{
 "cells": [
  {
   "cell_type": "markdown",
   "id": "0338b2ff",
   "metadata": {},
   "source": [
    "# EN3150 Assignment03- Simple convolutional neural network to perform classification."
   ]
  }
 ],
 "metadata": {
  "language_info": {
   "name": "python"
  }
 },
 "nbformat": 4,
 "nbformat_minor": 5
}
